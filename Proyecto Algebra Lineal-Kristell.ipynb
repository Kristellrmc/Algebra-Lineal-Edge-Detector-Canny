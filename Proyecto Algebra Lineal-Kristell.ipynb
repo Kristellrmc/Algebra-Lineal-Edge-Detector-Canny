{
 "cells": [
  {
   "cell_type": "markdown",
   "metadata": {},
   "source": [
    "# Proyecto Final Algebra Lineal 2017\n",
    "---"
   ]
  },
  {
   "cell_type": "markdown",
   "metadata": {},
   "source": [
    "El proyecto del curso consiste en la implementación del [Algortimo de Canny](https://es.wikipedia.org/wiki/Algoritmo_de_Canny) para la detección de bordes en imágenes y videos. Para ello, se le entrega al estudiante toda la implementación del algoritmo en [OpenCV](http://opencv.org/) y su objetivo es **implementar las funciones de OpenCV con matrices**. \n",
    "\n",
    "Las funciones a modificar serán las siguientes:\n",
    "```python\n",
    "cv2.GaussianBlur()\n",
    "cv2.Sobel()\n",
    "```\n",
    "\n",
    "No es necesario que modifique más del código que se le solicita, pero puede hacer las modificaciones pertinentes si ese fuera el caso. Dentro del código se le indica en qué parte debe de ser modificado, por ejemplo:\n",
    "\n",
    "```python\n",
    "'''Modificar esta función'''\n",
    "    sobel = cv2.Sobel(img, cv2.CV_64F, x, y, ksize=sobel_kernel)\n",
    "``` \n",
    "\n",
    "Se recomienda buscar maneras de optimizar los cálculos de sus filtros, pues más adelante existe una aplicación en tiempo real donde es crucial que sus cálculos sean lo más rápidos posibles. Las dimensiones de los *kernels* no pueden ser modificadas."
   ]
  },
  {
   "cell_type": "markdown",
   "metadata": {},
   "source": [
    "# # 0. Conceptos\n",
    "Para poder modificar las funciones solicitadas es necesario que comprenda algunos conceptos, por lo cual es necesario que defina:\n",
    "\n",
    "1. ¿En que consiste la convolución y cómo puede ser calculada? (Puede dar una definición matemática y/o ejemplos\n",
    "\n",
    "Se denomina convolución a una función, que de forma lineal y continua transforma una entrada en una nueva salida. Es una operación matematica que combina dos señales para producir una tercera señal.\n",
    "        \n",
    "En un sistema discreto, como el de las imágenes digitalizadas, la convolución de la función f(x,y) por g(x,y), en la que g(x,y) es una matriz de M filas por N columnas. Para una imagen digital, en el espacio real (X,Y), puede representarse como una matriz cuadrada o rectangular (matriz de convolución), de dimensiones (M,N) mucho mas pequeñas que la de la imagen esta se desplazara sobre la imagen de tal forma que el elemento central de la matriz de convolución coincida con cada uno de los píxeles de la imagen. En cada posición, se multiplica el valor de cada píxel de la imagen, que coincide en posición con un elemento de la matriz de convolución, por el valor de éste. El píxel de la imagen, que coincide con el elemento central de la matriz de convolución, es substituido por la suma de los productos.\n",
    "        \n",
    "2. ¿Qué es el *kernel* de un filtro y para que se utiliza?\n",
    "\n",
    "Es una matriz cuadrada que determina los coeficientes a aplicar sobre los puntos de una determinada área. Esta es        cuadrada de forma que el valor central corresponda a la posición del pixel de salida.\n",
    "\n",
    "3. ¿En qué consiste un filtro Gaussiano?\n",
    "\n",
    "Un filtro gausiano, calcula para un número de píxeles alrededor del píxel central, que se va a modificar, el valor medio correspondiente a la distribución normal o de Gauss, y coloca este valor en la posición del píxel central del área de exploración. esta operación se repita para cada uno de los píxeles de la imagen.\n",
    "\n",
    "4. ¿En qué consiste el Filtro Sobel? ¿para qué sirve?\n",
    "\n",
    "Es un filtro de aproximación al gradiente. El calculo de la derivada direccional de una función nos dice como se producen los cambios en tal dirección, estos suelen estar asociados a las altas frecuencias y suelen corresponder a los bordes de los objetos en una imagen.\n",
    "\n",
    "3. Describa el algoritmo de detección de bordes Canny.\n",
    "\n",
    "El algoritmo de detección de bordes Canny esta basado en la primera deriva debido a que toma el valor de cero en las regiones donde no varia la intensidad y posee un valor constante en la transición de intensidad. \n",
    "\n",
    "El algoritmo posee tres grandes pasos\n",
    "      \n",
    "   Obtención de gradiente: se calcula la magnitud y orientación del vector gradiente para cada pixel. Se realiza \n",
    "                           mediante la aplicación de un filtro gaussiano para suavizar la imagen y eliminar el posible ruido.\n",
    "      \n",
    "   Supresión no máxima: adelgazamiento del ancho de los bordes.\n",
    "      \n",
    "   Histéresis con el gradiente: se aplica una función histéresis basada en dos umbrales, para poder reducir la \n",
    "                                aparición de contornos falsos. Esta puede ser mediante el uso de un filtro sobel.\n"
   ]
  },
  {
   "cell_type": "code",
   "execution_count": null,
   "metadata": {
    "collapsed": true
   },
   "outputs": [],
   "source": [
    "import numpy as np\n",
    "import matplotlib.pylab as plt\n",
    "import cv2\n",
    "\n",
    "from moviepy.editor import VideoFileClip\n",
    "from IPython.display import HTML\n",
    "\n",
    "%matplotlib inline"
   ]
  },
  {
   "cell_type": "code",
   "execution_count": null,
   "metadata": {
    "collapsed": true
   },
   "outputs": [],
   "source": [
    "def gaussian_blur(img, kernel = 5):\n",
    "    KernelARR=np.array(([1,4,6,4,1],[4,16,24,16,4],[6,24,48,24,6],[4,16,24,16,4],[1,4,6,4,1]))\n",
    "    \n",
    "    iR,iC = img.shape[:2]  \n",
    "    border=(kernel-1)/2\n",
    "    img = cv2.copyMakeBorder(img,border,border,border,border,cv2.BORDER_REPLICATE)\n",
    "    output = np.zeros((iR,iC), dtype=\"float32\")\n",
    "    \n",
    "    for y in np.arange(border,iR+border):\n",
    "        for x in np.arange(border,iC+border):\n",
    "            roi=img[y-border:y+border+1,x-border:x+border+1]\n",
    "            k=((roi*KernelARR).sum())/256\n",
    "            img[y,x]=k\n",
    " \n",
    "    return img"
   ]
  },
  {
   "cell_type": "code",
   "execution_count": null,
   "metadata": {
    "collapsed": true
   },
   "outputs": [],
   "source": [
    "def Sobel(img,x,y,ksize=3):\n",
    "    SobelX=np.array(([-1,0,1],\n",
    "                     [-2,0,2],\n",
    "                     [-1,0,1]),dtype=\"int\")\n",
    "    \n",
    "    SobelY=np.array(([-1,-2,-1],\n",
    "                     [0,0,0],\n",
    "                     [1,2,1]),dtype=\"int\")\n",
    "    \n",
    "    \n",
    "    iR,iC = img.shape[:2]    \n",
    "    border=(ksize-1)/2\n",
    "    img = cv2.copyMakeBorder(img,border,border,border,border,cv2.BORDER_REPLICATE)\n",
    "    output1 = np.zeros((iR,iC), dtype=\"float32\")\n",
    "    output2 = np.zeros((iR,iC), dtype=\"float32\")    \n",
    "    \n",
    "    for y in np.arange(border,iR+border):\n",
    "        for x in np.arange(border,iC+border):\n",
    "            roi=img[y-border:y+border+1,x-border:x+border+1]\n",
    "            k=((roi*SobelX).sum())/4\n",
    "            k2=((roi*SobelY).sum())/4\n",
    "            output1[y-border,x-border]=k\n",
    "            output2[y-border,x-border]=k2\n",
    "            \n",
    "    return output1,output2"
   ]
  },
  {
   "cell_type": "code",
   "execution_count": null,
   "metadata": {},
   "outputs": [],
   "source": [
    "def abs_sobel_thresh(img, orient='x', sobel_kernel=3, thresh=(0, 255)):\n",
    "    # Calculate directional gradient\n",
    "    global RSobelX\n",
    "    global RSobelY \n",
    "    if orient == 'x':\n",
    "        x,y = 1,0\n",
    "    elif orient == 'y':\n",
    "        x,y = 0,1\n",
    "    '''Modificar esta función'''\n",
    "    RSobelX,RSobelY = Sobel(img, x, y, ksize=sobel_kernel)\n",
    "    \n",
    "    if orient=='x':\n",
    "        sobel=RSobelX\n",
    "    elif orient == 'y':\n",
    "        sobel=RSobelY\n",
    "        \n",
    "    # Take the absolute value of the derivative or gradient\n",
    "    abs_sobel = np.absolute(sobel)\n",
    "\n",
    "    # Scale to 8-bit (0 - 255) then convert to type = np.uint8\n",
    "    scaled_sobel = np.uint8(255*abs_sobel/np.max(abs_sobel))\n",
    "    \n",
    "    # Create a mask of 1's where the scaled gradient magnitude \n",
    "    # is > thresh_min and < thresh_max\n",
    "    sbinary = np.zeros_like(scaled_sobel)\n",
    "    sbinary[(scaled_sobel >= thresh[0]) & (scaled_sobel <= thresh[1])] = 1\n",
    "    return sbinary\n",
    "\n",
    "def mag_thresh(image, sobel_kernel=3, mag_thresh=(0, 255)):\n",
    "    # Calculate gradient magnitude\n",
    "    # Take the gradient in x and y separately\n",
    "    global RSobelX\n",
    "    global RSobelY\n",
    "    sobelx = RSobelX#Sobel(image, 1, 0, ksize=sobel_kernel)\n",
    "    sobely = RSobelY#Sobel(image, 0, 1, ksize=sobel_kernel)\n",
    "    \n",
    "    # Calculate the magnitude \n",
    "    abs_sobel = np.sqrt(sobelx**2 +sobely**2)\n",
    "\n",
    "    # Scale to 8-bit (0 - 255) and convert to type = np.uint8\n",
    "    scaled_sobel = np.uint8(255*abs_sobel/np.max(abs_sobel))\n",
    "    \n",
    "    # Create a binary mask where mag thresholds are met\n",
    "    sbinary = np.zeros_like(scaled_sobel)\n",
    "    sbinary[(scaled_sobel >= mag_thresh[0]) & (scaled_sobel <= mag_thresh[1])] = 1\n",
    "    return sbinary\n",
    "\n",
    "def dir_threshold(image, sobel_kernel=3, thresh=(0, np.pi/2)):\n",
    "    # Calculate gradient direction\n",
    "    # Take the gradient in x and y separately\n",
    "    global RSobelX\n",
    "    global RSobelY\n",
    "    sobelx = RSobelX #Sobel(image, 1, 0, ksize=sobel_kernel)\n",
    "    sobely = RSobelY #Sobel(image, 0, 1, ksize=sobel_kernel)\n",
    "\n",
    "    # Take the absolute value of the x and y gradients\n",
    "    abs_sobelx = np.absolute(sobelx)   \n",
    "    abs_sobely = np.absolute(sobely)\n",
    "    \n",
    "    # Use np.arctan2(abs_sobely, abs_sobelx) to calculate the direction of the gradient \n",
    "    grad_dir = np.arctan2(abs_sobely, abs_sobelx)\n",
    "    \n",
    "    # Create a binary mask where direction thresholds are met\n",
    "    sbinary = np.zeros_like(grad_dir)\n",
    "    sbinary[(grad_dir >= thresh[0]) & (grad_dir <= thresh[1])] = 1\n",
    "    return sbinary"
   ]
  },
  {
   "cell_type": "markdown",
   "metadata": {},
   "source": [
    "## 1. Prueba en Imagen"
   ]
  },
  {
   "cell_type": "code",
   "execution_count": null,
   "metadata": {},
   "outputs": [],
   "source": [
    "# Test filter on single image\n",
    "im = plt.imread(\"BTD.jpg\")\n",
    "gray = cv2.cvtColor(im, cv2.COLOR_RGB2GRAY)\n",
    "\n",
    "# Gaussian Blur Filtering\n",
    "gray = gaussian_blur(gray, kernel = 5)\n",
    "\n",
    "# Choose a Sobel kernel size\n",
    "ksize = 3 # Choose a larger odd number to smooth gradient measurements\n",
    "\n",
    "# Apply each of the thresholding functions\n",
    "gradx = abs_sobel_thresh(gray, orient='x', sobel_kernel=ksize, thresh=(50, 100))\n",
    "grady = abs_sobel_thresh(gray, orient='y', sobel_kernel=ksize, thresh=(50, 100))\n",
    "mag_binary = mag_thresh(gray, sobel_kernel=ksize, mag_thresh=(20, 100))\n",
    "dir_binary = dir_threshold(gray, sobel_kernel=ksize, thresh=(0, np.pi/2))\n",
    "\n",
    "# Create combined image with sobel filters applied\n",
    "combined = np.zeros_like(dir_binary)\n",
    "combined[((gradx == 1) & (grady == 1)) | ((mag_binary == 1) & (dir_binary == 1))] = 1\n",
    "\n",
    "rgb_combined = np.asarray(np.dstack((combined, combined, combined)), dtype=np.float64)"
   ]
  },
  {
   "cell_type": "code",
   "execution_count": null,
   "metadata": {},
   "outputs": [],
   "source": [
    "# Plot the result\n",
    "f, ((ax1, ax2, ax3), (ax4, ax5, ax6)) = plt.subplots(2, 3, figsize=(10, 15))\n",
    "f.tight_layout()\n",
    "ax1.imshow(im)\n",
    "ax1.set_title('Original Image', fontsize=20)\n",
    "ax2.imshow(gray, cmap='gray')\n",
    "ax2.set_title('Gray Image', fontsize=20)\n",
    "ax3.imshow(rgb_combined, cmap='gray')\n",
    "ax3.set_title('Combined Sobel Image', fontsize=20)\n",
    "ax4.imshow(gradx, cmap='gray')\n",
    "ax4.set_title('GradX Image', fontsize=20)\n",
    "ax5.imshow(grady, cmap='gray')\n",
    "ax5.set_title('GradY Image', fontsize=20)\n",
    "ax6.imshow(((mag_binary == 1) & (dir_binary == 1)), cmap='gray')\n",
    "ax6.set_title('Thresholded Grad. Dir.', fontsize=20)\n",
    "\n",
    "plt.subplots_adjust(left=0., right=1, top=0.9, bottom=0.)\n",
    "plt.show() "
   ]
  },
  {
   "cell_type": "markdown",
   "metadata": {},
   "source": [
    "## 2. Prueba en Videos"
   ]
  },
  {
   "cell_type": "code",
   "execution_count": null,
   "metadata": {
    "collapsed": true
   },
   "outputs": [],
   "source": [
    "def process_image(image):\n",
    "    \n",
    "    gray = cv2.cvtColor(image, cv2.COLOR_RGB2GRAY)\n",
    "    gray = gaussian_blur(gray, kernel = 5)\n",
    "    # Choose a Sobel kernel size\n",
    "    ksize = 3 # Choose a larger odd number to smooth gradient measurements\n",
    "\n",
    "    # Apply each of the thresholding functions\n",
    "    gradx = abs_sobel_thresh(gray, orient='x', sobel_kernel=ksize, thresh=(50, 100))\n",
    "    grady = abs_sobel_thresh(gray, orient='y', sobel_kernel=ksize, thresh=(50, 100))\n",
    "    mag_binary = mag_thresh(gray, sobel_kernel=ksize, mag_thresh=(20, 100))\n",
    "    dir_binary = dir_threshold(gray, sobel_kernel=ksize, thresh=(0, np.pi/4))\n",
    "    \n",
    "    combined = np.zeros_like(dir_binary)\n",
    "    combined[((gradx == 1) & (grady == 1)) | ((mag_binary == 1) & (dir_binary == 1))] = 1\n",
    "    \n",
    "    \n",
    "    rgb_combined = np.asarray(np.dstack((combined, combined, combined)), dtype=np.uint8)\n",
    "    \n",
    "    retval, threshold = cv2.threshold(rgb_combined, 0, 255, cv2.THRESH_BINARY)\n",
    "    \n",
    "    return threshold"
   ]
  },
  {
   "cell_type": "code",
   "execution_count": null,
   "metadata": {},
   "outputs": [],
   "source": [
    "filter_output = 'Batman_Filter.mp4'\n",
    "clip1 = VideoFileClip(\"Batman.mp4\")\n",
    "batman_clip = clip1.fl_image(process_image) #NOTE: this function expects color images!!\n",
    "%time batman_clip.write_videofile(filter_output, audio=False)"
   ]
  },
  {
   "cell_type": "code",
   "execution_count": null,
   "metadata": {
    "collapsed": true
   },
   "outputs": [],
   "source": [
    "HTML(\"\"\"\n",
    "<video width=\"720\" height=\"480\" controls>\n",
    "  <source src=\"{0}\">\n",
    "</video>\n",
    "\"\"\".format(filter_output))"
   ]
  },
  {
   "cell_type": "code",
   "execution_count": null,
   "metadata": {
    "collapsed": true
   },
   "outputs": [],
   "source": [
    "cap = cv2.VideoCapture(0)  # 0 for Python 3, 1 for Python 2. No idea why?!!\n",
    "\n",
    "out = cv2.VideoWriter(\"output.avi\", cv2.VideoWriter_fourcc(*\"MJPG\"), 20,(640,480))\n",
    "\n",
    "while(cap.isOpened()):\n",
    "    ret, frame = cap.read()\n",
    "    if ret==True:\n",
    "        frame = cv2.flip(frame,180)\n",
    "        new_frame = process_image(frame)\n",
    "        out.write(new_frame)\n",
    "\n",
    "        cv2.imshow('frame',new_frame)\n",
    "        if cv2.waitKey(1) & 0xFF == ord('q'):\n",
    "            break\n",
    "    else:\n",
    "        break\n",
    "\n",
    "# Release everything if job is finished\n",
    "cap.release()\n",
    "out.release()\n",
    "cv2.destroyAllWindows()"
   ]
  }
 ],
 "metadata": {
  "kernelspec": {
   "display_name": "Python 2",
   "language": "python",
   "name": "python2"
  },
  "language_info": {
   "codemirror_mode": {
    "name": "ipython",
    "version": 2
   },
   "file_extension": ".py",
   "mimetype": "text/x-python",
   "name": "python",
   "nbconvert_exporter": "python",
   "pygments_lexer": "ipython2",
   "version": "2.7.13"
  }
 },
 "nbformat": 4,
 "nbformat_minor": 2
}
